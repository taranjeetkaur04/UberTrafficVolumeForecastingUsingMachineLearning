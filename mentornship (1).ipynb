{
 "cells": [
  {
   "cell_type": "markdown",
   "id": "ed29f705-0e44-4add-b24e-25fbdf9624ef",
   "metadata": {},
   "source": [
    "## STEP 1:Load Raw Data"
   ]
  },
  {
   "cell_type": "code",
   "execution_count": 2,
   "id": "b243d9d5-5ba4-4066-8c5a-c47f1cd16a60",
   "metadata": {},
   "outputs": [
    {
     "name": "stdout",
     "output_type": "stream",
     "text": [
      "<class 'pandas.core.frame.DataFrame'>\n",
      "RangeIndex: 48120 entries, 0 to 48119\n",
      "Data columns (total 4 columns):\n",
      " #   Column    Non-Null Count  Dtype \n",
      "---  ------    --------------  ----- \n",
      " 0   DateTime  48120 non-null  object\n",
      " 1   Junction  48120 non-null  int64 \n",
      " 2   Vehicles  48120 non-null  int64 \n",
      " 3   ID        48120 non-null  int64 \n",
      "dtypes: int64(3), object(1)\n",
      "memory usage: 1.5+ MB\n"
     ]
    },
    {
     "data": {
      "text/plain": [
       "DateTime    0\n",
       "Junction    0\n",
       "Vehicles    0\n",
       "ID          0\n",
       "dtype: int64"
      ]
     },
     "execution_count": 2,
     "metadata": {},
     "output_type": "execute_result"
    }
   ],
   "source": [
    "import pandas as pd\n",
    "\n",
    "# Load dataset\n",
    "df = pd.read_csv('Dataset_Uber Traffic.csv')\n",
    "\n",
    "# Preview\n",
    "df.head()\n",
    "df.info()\n",
    "df.isnull().sum()\n"
   ]
  },
  {
   "cell_type": "markdown",
   "id": "e9bab243-4f67-42bf-b83d-4bcfd7e55c8a",
   "metadata": {},
   "source": [
    "## STEP 2: Clean the Data"
   ]
  },
  {
   "cell_type": "code",
   "execution_count": 4,
   "id": "188bd8fb-bab7-44a9-b7e2-edd30c34c2a0",
   "metadata": {},
   "outputs": [],
   "source": [
    "# Drop duplicates\n",
    "df = df.drop_duplicates()"
   ]
  },
  {
   "cell_type": "code",
   "execution_count": 5,
   "id": "39092c30-8714-4de9-afe7-e275534ea7b5",
   "metadata": {},
   "outputs": [
    {
     "data": {
      "text/plain": [
       "DateTime    0\n",
       "Junction    0\n",
       "Vehicles    0\n",
       "ID          0\n",
       "dtype: int64"
      ]
     },
     "execution_count": 5,
     "metadata": {},
     "output_type": "execute_result"
    }
   ],
   "source": [
    "# Check missing values\n",
    "df.isnull().sum()"
   ]
  },
  {
   "cell_type": "code",
   "execution_count": 6,
   "id": "97bbaf6e-7e2c-48c6-9c97-fff9b37e7be8",
   "metadata": {},
   "outputs": [],
   "source": [
    "# Fill missing values in 'Vehicles' column with median value\n",
    "df['Vehicles'] = df['Vehicles'].fillna(df['Vehicles'].median())"
   ]
  },
  {
   "cell_type": "code",
   "execution_count": 7,
   "id": "92619565-227e-41fe-b293-0ef91ee4b347",
   "metadata": {},
   "outputs": [
    {
     "data": {
      "text/plain": [
       "DateTime    object\n",
       "Junction     int64\n",
       "Vehicles     int64\n",
       "ID           int64\n",
       "dtype: object"
      ]
     },
     "execution_count": 7,
     "metadata": {},
     "output_type": "execute_result"
    }
   ],
   "source": [
    "df.dtypes\n"
   ]
  },
  {
   "cell_type": "code",
   "execution_count": 8,
   "id": "df82db3e-83e1-4ad0-9f50-792ed98f2d98",
   "metadata": {},
   "outputs": [
    {
     "name": "stderr",
     "output_type": "stream",
     "text": [
      "C:\\Users\\Lenovo\\AppData\\Local\\Temp\\ipykernel_24904\\4236684332.py:2: UserWarning: Could not infer format, so each element will be parsed individually, falling back to `dateutil`. To ensure parsing is consistent and as-expected, please specify a format.\n",
      "  df['DateTime'] = pd.to_datetime(df['DateTime'])\n"
     ]
    }
   ],
   "source": [
    "# Convert DateTime column to proper datetime format\n",
    "df['DateTime'] = pd.to_datetime(df['DateTime'])\n"
   ]
  },
  {
   "cell_type": "markdown",
   "id": "41661234-92e5-463d-8fb8-f4d7bf95f578",
   "metadata": {},
   "source": [
    "## STEP 3: Aggregate traffic data\n",
    "✅ STEP 1: Load & Prepare Time Columns"
   ]
  },
  {
   "cell_type": "code",
   "execution_count": 88,
   "id": "27da983e-d296-433e-81c3-4ffb90df8324",
   "metadata": {},
   "outputs": [],
   "source": [
    "import pandas as pd\n",
    "\n",
    "# Load the CSV\n",
    "merged = pd.merge(df, weather_merged, left_on='DateTime', right_on='datetime', how='left')\n",
    "\n"
   ]
  },
  {
   "cell_type": "code",
   "execution_count": 90,
   "id": "5d0055ea-4049-4364-8965-deceb79a7c03",
   "metadata": {},
   "outputs": [],
   "source": [
    "# Convert to datetime\n",
    "df['DateTime'] = pd.to_datetime(df['DateTime'], format='%d/%m/%y %H:%M')\n",
    "\n",
    "\n",
    "\n",
    "# Extract useful time components\n",
    "df['Date'] = df['DateTime'].dt.date\n",
    "df['Hour'] = df['DateTime'].dt.hour\n"
   ]
  },
  {
   "cell_type": "markdown",
   "id": "bd014ef5-88d5-48c5-9b27-e07ce2e704f4",
   "metadata": {},
   "source": [
    "\n",
    "✅ STEP 2: Group by Junction, Date, and Hour\n"
   ]
  },
  {
   "cell_type": "code",
   "execution_count": 93,
   "id": "811df601-7d8d-4887-ad3a-a54eaf18cb04",
   "metadata": {},
   "outputs": [],
   "source": [
    "# Group to get hourly traffic volume per junction\n",
    "hourly_df = df.groupby(['Junction', 'Date', 'Hour'])['Vehicles'].sum().reset_index()\n"
   ]
  },
  {
   "cell_type": "code",
   "execution_count": 95,
   "id": "9861b5f1-1e79-4c3c-851c-950a70abe72f",
   "metadata": {},
   "outputs": [
    {
     "name": "stdout",
     "output_type": "stream",
     "text": [
      "0       2015-01-11 00:00:00\n",
      "14592   2015-01-11 00:00:00\n",
      "29184   2015-01-11 00:00:00\n",
      "1       2015-01-11 01:00:00\n",
      "14593   2015-01-11 01:00:00\n",
      "29185   2015-01-11 01:00:00\n",
      "14594   2015-01-11 02:00:00\n",
      "29186   2015-01-11 02:00:00\n",
      "2       2015-01-11 02:00:00\n",
      "14595   2015-01-11 03:00:00\n",
      "Name: DateTime, dtype: datetime64[ns]\n"
     ]
    }
   ],
   "source": [
    "#Quick test to check formats:\n",
    "print(df['DateTime'].head(10))"
   ]
  },
  {
   "cell_type": "markdown",
   "id": "7bf80d44-e8ba-4a3f-bb78-ae4cb3e38e26",
   "metadata": {},
   "source": [
    "## STEP 4: Preprocess the data"
   ]
  },
  {
   "cell_type": "code",
   "execution_count": 98,
   "id": "ad646c2d-6e7a-4b73-afdf-84926d237d5f",
   "metadata": {},
   "outputs": [],
   "source": [
    "# I'll go with Standardization (z-score), as it's more robust for time series with outliers.\n",
    "from sklearn.preprocessing import StandardScaler\n",
    "\n",
    "# Assume you already have hourly_df from the last step\n",
    "scaler = StandardScaler()\n",
    "\n",
    "# Only scale the 'Vehicles' column\n",
    "hourly_df['Vehicles_scaled'] = scaler.fit_transform(hourly_df[['Vehicles']])\n"
   ]
  },
  {
   "cell_type": "code",
   "execution_count": 100,
   "id": "ff17b7cf-bbe3-48db-8f71-0d6bfeff96f3",
   "metadata": {},
   "outputs": [
    {
     "name": "stdout",
     "output_type": "stream",
     "text": [
      "|    |   Junction | Date       |   Hour |   Vehicles |   Vehicles_scaled |\n",
      "|----|------------|------------|--------|------------|-------------------|\n",
      "|  0 |          1 | 2015-01-11 |      0 |  0.0782123 |         -0.375489 |\n",
      "|  1 |          1 | 2015-01-11 |      1 |  0.0670391 |         -0.471875 |\n",
      "|  2 |          1 | 2015-01-11 |      2 |  0.0502793 |         -0.616454 |\n",
      "|  3 |          1 | 2015-01-11 |      3 |  0.0335196 |         -0.761034 |\n",
      "|  4 |          1 | 2015-01-11 |      4 |  0.0446927 |         -0.664648 |\n"
     ]
    }
   ],
   "source": [
    "# Aiming to view the scaled vehicle data in a clean tabular format\n",
    "from tabulate import tabulate\n",
    "print(tabulate(hourly_df[['Junction', 'Date', 'Hour', 'Vehicles', 'Vehicles_scaled']].head(), headers='keys', tablefmt='github'))\n"
   ]
  },
  {
   "cell_type": "code",
   "execution_count": 102,
   "id": "f8157471-d876-40c9-a5ff-b067ece480b2",
   "metadata": {},
   "outputs": [],
   "source": [
    "# save the Preprocessed Data\n",
    "hourly_df.to_csv(\"Preprocessed_Traffic_Data.csv\", index=False)\n"
   ]
  },
  {
   "cell_type": "markdown",
   "id": "1dd33419-78ed-4d04-96b8-9520a5f0fad8",
   "metadata": {},
   "source": [
    "## Feature Engineering and Selection"
   ]
  },
  {
   "cell_type": "markdown",
   "id": "7c7f154a-1829-4ac4-98d3-6a1aefc9357a",
   "metadata": {},
   "source": [
    "✅ STEP 1: Create New Time-Based Features"
   ]
  },
  {
   "cell_type": "code",
   "execution_count": 106,
   "id": "f0c20b47-bb41-428c-9dc9-aa7246a202bc",
   "metadata": {},
   "outputs": [],
   "source": [
    "hourly_df['DateTime'] = pd.to_datetime(hourly_df['Date'].astype(str) + ' ' + hourly_df['Hour'].astype(str) + ':00:00')\n"
   ]
  },
  {
   "cell_type": "code",
   "execution_count": 108,
   "id": "b288f35b-e876-427e-9845-35581147e542",
   "metadata": {},
   "outputs": [],
   "source": [
    "# Convert DateTime if needed\n",
    "hourly_df['DateTime'] = pd.to_datetime(hourly_df['DateTime'])\n",
    "# Extract time-based features\n",
    "hourly_df['Hour'] = hourly_df['DateTime'].dt.hour\n",
    "hourly_df['DayOfWeek'] = hourly_df['DateTime'].dt.dayofweek  # Monday = 0\n",
    "hourly_df['Month'] = hourly_df['DateTime'].dt.month\n",
    "\n",
    "# Weekend binary feature\n",
    "hourly_df['IsWeekend'] = hourly_df['DayOfWeek'].apply(lambda x: 1 if x >= 5 else 0)\n"
   ]
  },
  {
   "cell_type": "code",
   "execution_count": 110,
   "id": "358e797a-c03b-4977-a73e-1aca3193ded0",
   "metadata": {},
   "outputs": [
    {
     "name": "stdout",
     "output_type": "stream",
     "text": [
      "Index(['Junction', 'Date', 'Hour', 'Vehicles', 'Vehicles_scaled', 'DateTime',\n",
      "       'DayOfWeek', 'Month', 'IsWeekend'],\n",
      "      dtype='object')\n"
     ]
    }
   ],
   "source": [
    "print(hourly_df.columns)\n"
   ]
  },
  {
   "cell_type": "markdown",
   "id": "4eb861ad-5226-497e-85d2-9ee878a5ddc3",
   "metadata": {},
   "source": [
    "✅ STEP 2: Create Lag Features"
   ]
  },
  {
   "cell_type": "code",
   "execution_count": 113,
   "id": "67b952ae-d2ae-4c50-b650-3d025e896dea",
   "metadata": {},
   "outputs": [],
   "source": [
    "# Lag traffic count by 1 and 2 hours\n",
    "hourly_df['Lag_1'] = hourly_df.groupby('Junction')['Vehicles'].shift(1)\n",
    "hourly_df['Lag_2'] = hourly_df.groupby('Junction')['Vehicles'].shift(2)\n"
   ]
  },
  {
   "cell_type": "markdown",
   "id": "38fadf5d-4edc-493f-8bcc-fb49af959c8c",
   "metadata": {},
   "source": [
    "✅ STEP 3: Add Special Event Indicator"
   ]
  },
  {
   "cell_type": "code",
   "execution_count": 116,
   "id": "cbcb1545-6a98-47ca-9a69-d9bbf5ad0f71",
   "metadata": {},
   "outputs": [],
   "source": [
    "# Placeholder: Assume no special events for now\n",
    "hourly_df['IsEvent'] = 0\n"
   ]
  },
  {
   "cell_type": "markdown",
   "id": "13161c13-6096-403b-957f-e44cb16140e2",
   "metadata": {},
   "source": [
    "✅ STEP 4: Evaluate Feature Importance"
   ]
  },
  {
   "cell_type": "code",
   "execution_count": 119,
   "id": "1ba2b594-7724-474f-b2ae-fcf6ee5b9e38",
   "metadata": {},
   "outputs": [
    {
     "name": "stdout",
     "output_type": "stream",
     "text": [
      "Hour: 0.0238\n",
      "DayOfWeek: 0.0065\n",
      "Month: 0.0095\n",
      "IsWeekend: 0.0011\n",
      "Lag_1: 0.9437\n",
      "Lag_2: 0.0156\n",
      "IsEvent: 0.0000\n"
     ]
    }
   ],
   "source": [
    "from sklearn.ensemble import RandomForestRegressor\n",
    "from sklearn.model_selection import train_test_split\n",
    "\n",
    "# Drop NaN rows (from lag features)\n",
    "hourly_df = hourly_df.dropna()\n",
    "\n",
    "# Define features and target\n",
    "features = ['Hour', 'DayOfWeek', 'Month', 'IsWeekend', 'Lag_1', 'Lag_2', 'IsEvent']\n",
    "X = hourly_df[features]\n",
    "y = hourly_df['Vehicles']\n",
    "\n",
    "# Train-test split\n",
    "X_train, X_test, y_train, y_test = train_test_split(X, y, test_size=0.2, random_state=42)\n",
    "\n",
    "# Fit Random Forest\n",
    "rf = RandomForestRegressor()\n",
    "rf.fit(X_train, y_train)\n",
    "\n",
    "# Feature importances\n",
    "importances = rf.feature_importances_\n",
    "for feat, imp in zip(features, importances):\n",
    "    print(f\"{feat}: {imp:.4f}\")\n"
   ]
  },
  {
   "cell_type": "markdown",
   "id": "28c514aa-b4fa-4b53-8da6-60f10aa59512",
   "metadata": {},
   "source": [
    "✅ STEP 5: Final Dataset for Modeling"
   ]
  },
  {
   "cell_type": "code",
   "execution_count": 121,
   "id": "cf6867f2-9744-46aa-9bd4-ad388858dfa0",
   "metadata": {},
   "outputs": [],
   "source": [
    "hourly_df.to_csv(\"Feature_Engineered_Traffic_Data.csv\", index=False)\n"
   ]
  },
  {
   "cell_type": "markdown",
   "id": "941a6d09-843f-40ea-90e6-1ad4add10ff8",
   "metadata": {},
   "source": [
    "## Industry Research: Impact of Traffic on Uber Fare Pricing\n",
    "\n",
    "#### Traffic significantly influences Uber's fare pricing due to dynamic pricing models like surge pricing. During peak hours, high demand and low driver availability lead to increased fares. Traffic congestion increases trip duration, which directly raises time-based charges. Events, public holidays, and bad weather also lead to traffic spikes, causing longer wait times and route detours — all of which raise fare estimates. This not only impacts customer cost but also affects Uber’s supply-demand balance and driver earnings."
   ]
  },
  {
   "cell_type": "markdown",
   "id": "236b6bb6-82a7-44f5-952f-ac99842424c5",
   "metadata": {},
   "source": [
    "## Data Collection and Integration"
   ]
  },
  {
   "cell_type": "markdown",
   "id": "8e4f4728-a91b-400d-a08d-76cb2356d5e2",
   "metadata": {},
   "source": [
    "## 🔹 WEATHER DATA:"
   ]
  },
  {
   "cell_type": "code",
   "execution_count": 127,
   "id": "b736bcfb-77b6-4344-8729-5bd5ca9b7190",
   "metadata": {},
   "outputs": [
    {
     "data": {
      "text/html": [
       "<div>\n",
       "<style scoped>\n",
       "    .dataframe tbody tr th:only-of-type {\n",
       "        vertical-align: middle;\n",
       "    }\n",
       "\n",
       "    .dataframe tbody tr th {\n",
       "        vertical-align: top;\n",
       "    }\n",
       "\n",
       "    .dataframe thead th {\n",
       "        text-align: right;\n",
       "    }\n",
       "</style>\n",
       "<table border=\"1\" class=\"dataframe\">\n",
       "  <thead>\n",
       "    <tr style=\"text-align: right;\">\n",
       "      <th></th>\n",
       "      <th>name</th>\n",
       "      <th>datetime</th>\n",
       "      <th>tempmax</th>\n",
       "      <th>tempmin</th>\n",
       "      <th>temp</th>\n",
       "      <th>feelslikemax</th>\n",
       "      <th>feelslikemin</th>\n",
       "      <th>feelslike</th>\n",
       "      <th>dew</th>\n",
       "      <th>humidity</th>\n",
       "      <th>...</th>\n",
       "      <th>solarenergy</th>\n",
       "      <th>uvindex</th>\n",
       "      <th>severerisk</th>\n",
       "      <th>sunrise</th>\n",
       "      <th>sunset</th>\n",
       "      <th>moonphase</th>\n",
       "      <th>conditions</th>\n",
       "      <th>description</th>\n",
       "      <th>icon</th>\n",
       "      <th>stations</th>\n",
       "    </tr>\n",
       "  </thead>\n",
       "  <tbody>\n",
       "    <tr>\n",
       "      <th>0</th>\n",
       "      <td>Delhi, India</td>\n",
       "      <td>2015-01-11</td>\n",
       "      <td>59.0</td>\n",
       "      <td>44.6</td>\n",
       "      <td>50.5</td>\n",
       "      <td>59.0</td>\n",
       "      <td>44.2</td>\n",
       "      <td>49.9</td>\n",
       "      <td>45.9</td>\n",
       "      <td>85.5</td>\n",
       "      <td>...</td>\n",
       "      <td>12.1</td>\n",
       "      <td>5</td>\n",
       "      <td>NaN</td>\n",
       "      <td>2015-01-11T07:15:19</td>\n",
       "      <td>2015-01-11T17:42:35</td>\n",
       "      <td>0.70</td>\n",
       "      <td>Partially cloudy</td>\n",
       "      <td>Partly cloudy throughout the day.</td>\n",
       "      <td>fog</td>\n",
       "      <td>42182099999,VIDP,42181099999</td>\n",
       "    </tr>\n",
       "    <tr>\n",
       "      <th>1</th>\n",
       "      <td>Delhi, India</td>\n",
       "      <td>2015-01-12</td>\n",
       "      <td>60.8</td>\n",
       "      <td>44.1</td>\n",
       "      <td>51.4</td>\n",
       "      <td>60.8</td>\n",
       "      <td>43.5</td>\n",
       "      <td>50.9</td>\n",
       "      <td>47.1</td>\n",
       "      <td>86.4</td>\n",
       "      <td>...</td>\n",
       "      <td>12.2</td>\n",
       "      <td>6</td>\n",
       "      <td>NaN</td>\n",
       "      <td>2015-01-12T07:15:18</td>\n",
       "      <td>2015-01-12T17:43:23</td>\n",
       "      <td>0.73</td>\n",
       "      <td>Partially cloudy</td>\n",
       "      <td>Partly cloudy throughout the day.</td>\n",
       "      <td>fog</td>\n",
       "      <td>42182099999,VIDP,42181099999,remote</td>\n",
       "    </tr>\n",
       "    <tr>\n",
       "      <th>2</th>\n",
       "      <td>Delhi, India</td>\n",
       "      <td>2015-01-13</td>\n",
       "      <td>63.4</td>\n",
       "      <td>42.8</td>\n",
       "      <td>51.6</td>\n",
       "      <td>63.4</td>\n",
       "      <td>41.1</td>\n",
       "      <td>50.9</td>\n",
       "      <td>47.4</td>\n",
       "      <td>86.8</td>\n",
       "      <td>...</td>\n",
       "      <td>12.0</td>\n",
       "      <td>6</td>\n",
       "      <td>NaN</td>\n",
       "      <td>2015-01-13T07:15:16</td>\n",
       "      <td>2015-01-13T17:44:11</td>\n",
       "      <td>0.75</td>\n",
       "      <td>Partially cloudy</td>\n",
       "      <td>Partly cloudy throughout the day.</td>\n",
       "      <td>fog</td>\n",
       "      <td>42182099999,VIDP,42181099999,remote</td>\n",
       "    </tr>\n",
       "    <tr>\n",
       "      <th>3</th>\n",
       "      <td>Delhi, India</td>\n",
       "      <td>2015-01-14</td>\n",
       "      <td>59.0</td>\n",
       "      <td>48.8</td>\n",
       "      <td>53.9</td>\n",
       "      <td>59.0</td>\n",
       "      <td>48.8</td>\n",
       "      <td>53.9</td>\n",
       "      <td>49.9</td>\n",
       "      <td>86.6</td>\n",
       "      <td>...</td>\n",
       "      <td>10.6</td>\n",
       "      <td>5</td>\n",
       "      <td>NaN</td>\n",
       "      <td>2015-01-14T07:15:13</td>\n",
       "      <td>2015-01-14T17:45:00</td>\n",
       "      <td>0.80</td>\n",
       "      <td>Rain, Partially cloudy</td>\n",
       "      <td>Partly cloudy throughout the day with rain.</td>\n",
       "      <td>rain</td>\n",
       "      <td>42182099999,VIDP,42181099999</td>\n",
       "    </tr>\n",
       "    <tr>\n",
       "      <th>4</th>\n",
       "      <td>Delhi, India</td>\n",
       "      <td>2015-01-15</td>\n",
       "      <td>64.4</td>\n",
       "      <td>41.0</td>\n",
       "      <td>51.9</td>\n",
       "      <td>64.4</td>\n",
       "      <td>40.0</td>\n",
       "      <td>51.5</td>\n",
       "      <td>47.0</td>\n",
       "      <td>85.4</td>\n",
       "      <td>...</td>\n",
       "      <td>13.7</td>\n",
       "      <td>6</td>\n",
       "      <td>NaN</td>\n",
       "      <td>2015-01-15T07:15:08</td>\n",
       "      <td>2015-01-15T17:45:49</td>\n",
       "      <td>0.83</td>\n",
       "      <td>Partially cloudy</td>\n",
       "      <td>Clearing in the afternoon.</td>\n",
       "      <td>fog</td>\n",
       "      <td>42182099999,VIDP,42181099999,remote</td>\n",
       "    </tr>\n",
       "  </tbody>\n",
       "</table>\n",
       "<p>5 rows × 33 columns</p>\n",
       "</div>"
      ],
      "text/plain": [
       "           name   datetime  tempmax  tempmin  temp  feelslikemax  \\\n",
       "0  Delhi, India 2015-01-11     59.0     44.6  50.5          59.0   \n",
       "1  Delhi, India 2015-01-12     60.8     44.1  51.4          60.8   \n",
       "2  Delhi, India 2015-01-13     63.4     42.8  51.6          63.4   \n",
       "3  Delhi, India 2015-01-14     59.0     48.8  53.9          59.0   \n",
       "4  Delhi, India 2015-01-15     64.4     41.0  51.9          64.4   \n",
       "\n",
       "   feelslikemin  feelslike   dew  humidity  ...  solarenergy  uvindex  \\\n",
       "0          44.2       49.9  45.9      85.5  ...         12.1        5   \n",
       "1          43.5       50.9  47.1      86.4  ...         12.2        6   \n",
       "2          41.1       50.9  47.4      86.8  ...         12.0        6   \n",
       "3          48.8       53.9  49.9      86.6  ...         10.6        5   \n",
       "4          40.0       51.5  47.0      85.4  ...         13.7        6   \n",
       "\n",
       "   severerisk              sunrise               sunset  moonphase  \\\n",
       "0         NaN  2015-01-11T07:15:19  2015-01-11T17:42:35       0.70   \n",
       "1         NaN  2015-01-12T07:15:18  2015-01-12T17:43:23       0.73   \n",
       "2         NaN  2015-01-13T07:15:16  2015-01-13T17:44:11       0.75   \n",
       "3         NaN  2015-01-14T07:15:13  2015-01-14T17:45:00       0.80   \n",
       "4         NaN  2015-01-15T07:15:08  2015-01-15T17:45:49       0.83   \n",
       "\n",
       "               conditions                                  description  icon  \\\n",
       "0        Partially cloudy            Partly cloudy throughout the day.   fog   \n",
       "1        Partially cloudy            Partly cloudy throughout the day.   fog   \n",
       "2        Partially cloudy            Partly cloudy throughout the day.   fog   \n",
       "3  Rain, Partially cloudy  Partly cloudy throughout the day with rain.  rain   \n",
       "4        Partially cloudy                   Clearing in the afternoon.   fog   \n",
       "\n",
       "                              stations  \n",
       "0         42182099999,VIDP,42181099999  \n",
       "1  42182099999,VIDP,42181099999,remote  \n",
       "2  42182099999,VIDP,42181099999,remote  \n",
       "3         42182099999,VIDP,42181099999  \n",
       "4  42182099999,VIDP,42181099999,remote  \n",
       "\n",
       "[5 rows x 33 columns]"
      ]
     },
     "execution_count": 127,
     "metadata": {},
     "output_type": "execute_result"
    }
   ],
   "source": [
    "import pandas as pd\n",
    "\n",
    "# Load both CSV files\n",
    "weather_1 = pd.read_csv('Delhi, India 2015-01-11 to 2016-06-30.csv')\n",
    "weather_2 = pd.read_csv('delhi 2016-07-01 to 2017-12-31.csv')\n",
    "\n",
    "# Merge (concatenate) both datasets\n",
    "weather_merged = pd.concat([weather_1, weather_2], ignore_index=True)\n",
    "\n",
    "# Convert date column to datetime\n",
    "weather_merged['datetime'] = pd.to_datetime(weather_merged['datetime'])\n",
    "\n",
    "# Sort by date just in case\n",
    "weather_merged = weather_merged.sort_values('datetime')\n",
    "\n",
    "# Check output\n",
    "weather_merged.head()\n"
   ]
  },
  {
   "cell_type": "markdown",
   "id": "ef8565df-3666-4972-9b5f-57a42d4fb4d7",
   "metadata": {},
   "source": [
    "## STEP 3: Add EVENT DATA\n",
    "\n",
    "manually creating a DataFrame for key event dates"
   ]
  },
  {
   "cell_type": "code",
   "execution_count": 130,
   "id": "8340b316-f548-443f-9e4b-8b08c1f05c9b",
   "metadata": {},
   "outputs": [],
   "source": [
    "# Manually define public holidays and events in Delhi\n",
    "events = {\n",
    "    'DateTime': [\n",
    "        '2015-08-15 00:00:00',  # Independence Day\n",
    "        '2015-10-02 00:00:00',  # Gandhi Jayanti\n",
    "        '2016-01-26 00:00:00',  # Republic Day\n",
    "        '2016-08-15 00:00:00',  # Independence Day\n",
    "        '2016-10-30 00:00:00',  # Diwali\n",
    "        '2017-08-15 00:00:00',  # Independence Day\n",
    "        '2017-10-02 00:00:00',  # Gandhi Jayanti\n",
    "    ],\n",
    "    'IsEvent': [1]*7  # Binary indicator\n",
    "}\n",
    "\n",
    "event_df = pd.DataFrame(events)\n",
    "event_df['DateTime'] = pd.to_datetime(event_df['DateTime'])\n"
   ]
  },
  {
   "cell_type": "markdown",
   "id": "9be61f58-936d-4e9a-9397-492206f6f7f4",
   "metadata": {},
   "source": [
    "## STEP 4: Merge All Data"
   ]
  },
  {
   "cell_type": "code",
   "execution_count": 155,
   "id": "07224f42-4113-40b5-bbc7-e549d5a38e38",
   "metadata": {},
   "outputs": [
    {
     "name": "stdout",
     "output_type": "stream",
     "text": [
      "Index(['DateTime', 'IsEvent'], dtype='object')\n",
      "    DateTime  IsEvent\n",
      "0 2015-08-15        1\n",
      "1 2015-10-02        1\n",
      "2 2016-01-26        1\n",
      "3 2016-08-15        1\n",
      "4 2016-10-30        1\n",
      "0   2015-01-11 00:00:00\n",
      "1   2015-01-11 00:00:00\n",
      "2   2015-01-11 00:00:00\n",
      "3   2015-01-11 01:00:00\n",
      "4   2015-01-11 01:00:00\n",
      "Name: DateTime, dtype: datetime64[ns]\n"
     ]
    }
   ],
   "source": [
    "#confirming the column names and formats:\n",
    "print(event_df.columns)\n",
    "print(event_df.head())\n",
    "print(merged['DateTime'].head())\n",
    "\n"
   ]
  },
  {
   "cell_type": "code",
   "execution_count": 157,
   "id": "4dc02c21-18d0-471d-bae5-72907097071a",
   "metadata": {},
   "outputs": [],
   "source": [
    "#Then, making sure both 'DateTime' columns are in the same format:\n",
    "event_df['DateTime'] = pd.to_datetime(event_df['DateTime'])\n",
    "merged['DateTime'] = pd.to_datetime(merged['DateTime'])\n"
   ]
  },
  {
   "cell_type": "code",
   "execution_count": 159,
   "id": "64996938-32fd-4aa3-b29a-138eee35fd00",
   "metadata": {},
   "outputs": [],
   "source": [
    "# 🔗 Merge traffic and weather datasets\n",
    "merged = pd.merge(df, weather_merged, left_on='DateTime', right_on='datetime', how='left')\n",
    "\n",
    "# 📅 Merge with event data to add public holiday/event indicators\n",
    "final_merged = pd.merge(merged, event_df, on='DateTime', how='left')\n"
   ]
  },
  {
   "cell_type": "code",
   "execution_count": 161,
   "id": "10774816-8607-47ec-a66b-e79a3ee651e1",
   "metadata": {},
   "outputs": [],
   "source": [
    "#fill missing values:\n",
    "if 'IsEvent' in final_merged.columns:\n",
    "    final_merged['IsEvent'] = final_merged['IsEvent'].fillna(0)\n",
    "else:\n",
    "    final_merged['IsEvent'] = 0  # fallback if column is missing\n"
   ]
  },
  {
   "cell_type": "markdown",
   "id": "e742ac85-4d05-445f-989e-23cb370cb0b8",
   "metadata": {},
   "source": [
    "## STEP 5: Handle Data Quality Issues"
   ]
  },
  {
   "cell_type": "code",
   "execution_count": 166,
   "id": "6760e0b3-e059-44a0-8a95-b7897b23bc77",
   "metadata": {},
   "outputs": [
    {
     "name": "stdout",
     "output_type": "stream",
     "text": [
      "Index(['DateTime', 'Junction', 'Vehicles', 'ID', 'name_x', 'datetime_x',\n",
      "       'tempmax_x', 'tempmin_x', 'temp_x', 'feelslikemax_x', 'feelslikemin_x',\n",
      "       'feelslike_x', 'dew_x', 'humidity_x', 'precip_x', 'precipprob_x',\n",
      "       'precipcover_x', 'preciptype_x', 'snow_x', 'snowdepth_x', 'windgust_x',\n",
      "       'windspeed_x', 'winddir_x', 'sealevelpressure_x', 'cloudcover_x',\n",
      "       'visibility_x', 'solarradiation_x', 'solarenergy_x', 'uvindex_x',\n",
      "       'severerisk_x', 'sunrise_x', 'sunset_x', 'moonphase_x', 'conditions_x',\n",
      "       'description_x', 'icon_x', 'stations_x', 'IsEvent_x', 'hour',\n",
      "       'dayofweek', 'month', 'Date', 'Hour', 'name_y', 'datetime_y',\n",
      "       'tempmax_y', 'tempmin_y', 'temp_y', 'feelslikemax_y', 'feelslikemin_y',\n",
      "       'feelslike_y', 'dew_y', 'humidity_y', 'precip_y', 'precipprob_y',\n",
      "       'precipcover_y', 'preciptype_y', 'snow_y', 'snowdepth_y', 'windgust_y',\n",
      "       'windspeed_y', 'winddir_y', 'sealevelpressure_y', 'cloudcover_y',\n",
      "       'visibility_y', 'solarradiation_y', 'solarenergy_y', 'uvindex_y',\n",
      "       'severerisk_y', 'sunrise_y', 'sunset_y', 'moonphase_y', 'conditions_y',\n",
      "       'description_y', 'icon_y', 'stations_y', 'IsEvent_y', 'IsEvent'],\n",
      "      dtype='object')\n"
     ]
    }
   ],
   "source": [
    "print(final_merged.columns)\n"
   ]
  },
  {
   "cell_type": "code",
   "execution_count": 168,
   "id": "f3415645-a3b5-43a7-9b90-92995a98f771",
   "metadata": {},
   "outputs": [
    {
     "name": "stdout",
     "output_type": "stream",
     "text": [
      "    temp_x  temp_y\n",
      "0  0.00759    50.5\n",
      "1  0.00759    50.5\n",
      "2  0.00759    50.5\n",
      "3  0.00759    50.5\n",
      "4  0.00759    50.5\n"
     ]
    }
   ],
   "source": [
    "print(final_merged[['temp_x', 'temp_y']].head())\n"
   ]
  },
  {
   "cell_type": "code",
   "execution_count": 170,
   "id": "53b85bf3-a779-4543-afc9-2bd90f150efa",
   "metadata": {},
   "outputs": [],
   "source": [
    "# 📉 Check how many missing values exist in each column of the final merged dataset\n",
    "missing_summary = final_merged.isnull().sum()\n",
    "\n",
    "# 🧹 Remove any duplicate rows to ensure data integrity\n",
    "final_merged = final_merged.drop_duplicates()\n",
    "\n",
    "# 🔄 Fill missing values using forward fill (ffill)\n",
    "# This method carries forward the last known value, useful for weather data continuity\n",
    "final_merged = final_merged.ffill()\n",
    "\n",
    "\n",
    "# 📐 Normalize selected numeric features to a 0–1 range using MinMaxScaler\n",
    "from sklearn.preprocessing import MinMaxScaler\n",
    "\n",
    "scaler = MinMaxScaler()\n",
    "\n",
    "# 🔧 Specify which columns to scale (adjust based on your actual column names)\n",
    "cols_to_scale = ['temp_x', 'humidity_x', 'windspeed_x', 'Vehicles']\n",
    "\n",
    "# 🧪 Apply scaling to the selected columns\n",
    "final_merged[cols_to_scale] = scaler.fit_transform(final_merged[cols_to_scale])\n",
    "\n"
   ]
  },
  {
   "cell_type": "code",
   "execution_count": 172,
   "id": "76db6fea-79aa-4cef-897c-35937c8db9d2",
   "metadata": {},
   "outputs": [
    {
     "name": "stdout",
     "output_type": "stream",
     "text": [
      "['DateTime', 'Junction', 'Vehicles', 'ID', 'name_x', 'datetime_x', 'tempmax_x', 'tempmin_x', 'temp_x', 'feelslikemax_x', 'feelslikemin_x', 'feelslike_x', 'dew_x', 'humidity_x', 'precip_x', 'precipprob_x', 'precipcover_x', 'preciptype_x', 'snow_x', 'snowdepth_x', 'windgust_x', 'windspeed_x', 'winddir_x', 'sealevelpressure_x', 'cloudcover_x', 'visibility_x', 'solarradiation_x', 'solarenergy_x', 'uvindex_x', 'severerisk_x', 'sunrise_x', 'sunset_x', 'moonphase_x', 'conditions_x', 'description_x', 'icon_x', 'stations_x', 'IsEvent_x', 'hour', 'dayofweek', 'month', 'Date', 'Hour', 'name_y', 'datetime_y', 'tempmax_y', 'tempmin_y', 'temp_y', 'feelslikemax_y', 'feelslikemin_y', 'feelslike_y', 'dew_y', 'humidity_y', 'precip_y', 'precipprob_y', 'precipcover_y', 'preciptype_y', 'snow_y', 'snowdepth_y', 'windgust_y', 'windspeed_y', 'winddir_y', 'sealevelpressure_y', 'cloudcover_y', 'visibility_y', 'solarradiation_y', 'solarenergy_y', 'uvindex_y', 'severerisk_y', 'sunrise_y', 'sunset_y', 'moonphase_y', 'conditions_y', 'description_y', 'icon_y', 'stations_y', 'IsEvent_y', 'IsEvent']\n"
     ]
    }
   ],
   "source": [
    "print(final_merged.columns.tolist())\n"
   ]
  },
  {
   "cell_type": "code",
   "execution_count": 174,
   "id": "ec2e7d0e-395c-4dda-a238-b9514d098e6a",
   "metadata": {},
   "outputs": [],
   "source": [
    "df = pd.read_csv('Final_Integrated_Dataset.csv')\n",
    "\n",
    "# Strip whitespace from column names\n",
    "df.columns = df.columns.str.strip()\n",
    "\n",
    "# Use the correct datetime column\n",
    "df['DateTime'] = pd.to_datetime(df['DateTime'])\n",
    "df = df.sort_values('DateTime')\n",
    "\n",
    "# Extract time features\n",
    "df['hour'] = df['DateTime'].dt.hour\n",
    "df['dayofweek'] = df['DateTime'].dt.dayofweek\n",
    "df['month'] = df['DateTime'].dt.month\n"
   ]
  },
  {
   "cell_type": "code",
   "execution_count": 176,
   "id": "c0c06b32-4270-427a-9374-595158fce8db",
   "metadata": {},
   "outputs": [],
   "source": [
    "# Saving Integrated Dataset\n",
    "final_merged.to_csv('Final_Integrated_Dataset.csv', index=False)\n"
   ]
  },
  {
   "cell_type": "code",
   "execution_count": 177,
   "id": "f6d56690-ed4c-4d18-a4fb-9a3c56c7a27c",
   "metadata": {},
   "outputs": [
    {
     "name": "stdout",
     "output_type": "stream",
     "text": [
      "(48120, 41)\n",
      "                 DateTime  Junction  Vehicles           ID          name  \\\n",
      "0     2015-01-11 00:00:00         1  0.078212  20151101001  Delhi, India   \n",
      "14592 2015-01-11 00:00:00         2  0.027933  20151101002  Delhi, India   \n",
      "29184 2015-01-11 00:00:00         3  0.044693  20151101003  Delhi, India   \n",
      "1     2015-01-11 01:00:00         1  0.067039  20151101011  Delhi, India   \n",
      "14593 2015-01-11 01:00:00         2  0.027933  20151101012  Delhi, India   \n",
      "\n",
      "         datetime  tempmax  tempmin     temp  feelslikemax  ...  \\\n",
      "0      2015-01-11     59.0     44.6  0.00759          59.0  ...   \n",
      "14592  2015-01-11     59.0     44.6  0.00759          59.0  ...   \n",
      "29184  2015-01-11     59.0     44.6  0.00759          59.0  ...   \n",
      "1      2015-01-11     59.0     44.6  0.00759          59.0  ...   \n",
      "14593  2015-01-11     59.0     44.6  0.00759          59.0  ...   \n",
      "\n",
      "                    sunset  moonphase        conditions  \\\n",
      "0      2015-01-11T17:42:35        0.7  Partially cloudy   \n",
      "14592  2015-01-11T17:42:35        0.7  Partially cloudy   \n",
      "29184  2015-01-11T17:42:35        0.7  Partially cloudy   \n",
      "1      2015-01-11T17:42:35        0.7  Partially cloudy   \n",
      "14593  2015-01-11T17:42:35        0.7  Partially cloudy   \n",
      "\n",
      "                             description  icon                      stations  \\\n",
      "0      Partly cloudy throughout the day.   fog  42182099999,VIDP,42181099999   \n",
      "14592  Partly cloudy throughout the day.   fog  42182099999,VIDP,42181099999   \n",
      "29184  Partly cloudy throughout the day.   fog  42182099999,VIDP,42181099999   \n",
      "1      Partly cloudy throughout the day.   fog  42182099999,VIDP,42181099999   \n",
      "14593  Partly cloudy throughout the day.   fog  42182099999,VIDP,42181099999   \n",
      "\n",
      "       IsEvent hour  dayofweek  month  \n",
      "0          0.0    0          6      1  \n",
      "14592      0.0    0          6      1  \n",
      "29184      0.0    0          6      1  \n",
      "1          0.0    1          6      1  \n",
      "14593      0.0    1          6      1  \n",
      "\n",
      "[5 rows x 41 columns]\n"
     ]
    }
   ],
   "source": [
    "print(df.shape)\n",
    "print(df.head())\n"
   ]
  },
  {
   "cell_type": "markdown",
   "id": "29e0917e-68ff-4fc1-83f3-7f09a1190f97",
   "metadata": {},
   "source": [
    "# DATA MODELLING AND MODEL EVALUATION"
   ]
  },
  {
   "cell_type": "markdown",
   "id": "91611134-a4b0-45ac-b9a4-4c02f4b67bc1",
   "metadata": {},
   "source": [
    "## 📊 STEP 1: Prepare Data for Modeling"
   ]
  },
  {
   "cell_type": "code",
   "execution_count": 182,
   "id": "506de12e-ec63-45a6-b774-0195a3efe0e9",
   "metadata": {},
   "outputs": [],
   "source": [
    "import pandas as pd\n",
    "\n",
    "df = pd.read_csv('Final_Integrated_Dataset.csv')\n",
    "df.columns = df.columns.str.strip()  # Remove any extra spaces\n",
    "df['DateTime'] = pd.to_datetime(df['DateTime'])\n",
    "df = df.sort_values('DateTime')\n",
    "df.set_index('DateTime', inplace=True)\n",
    "\n",
    "# Optional: filter for a specific junction if needed\n",
    "# df = df[df['Junction'] == 1]\n"
   ]
  },
  {
   "cell_type": "markdown",
   "id": "14b45ad1-4f6b-4bd0-b9bb-ad9a30ed6b62",
   "metadata": {},
   "source": [
    "## ⏳ STEP 2: Time-based Train-Test Split"
   ]
  },
  {
   "cell_type": "code",
   "execution_count": 185,
   "id": "f261b309-f26f-42a8-86ee-d47d3dc00fc3",
   "metadata": {},
   "outputs": [],
   "source": [
    "# Split into Train and Validation Sets\n",
    "\n",
    "split_point = int(len(df) * 0.8)\n",
    "train = df.iloc[:split_point]\n",
    "val = df.iloc[split_point:]\n"
   ]
  },
  {
   "cell_type": "markdown",
   "id": "f93d9d24-2bec-40d0-a98a-f5dd0e3663b4",
   "metadata": {},
   "source": [
    "## 🏗 STEP 3: Build Models\n",
    "#### i will be building  3 models:"
   ]
  },
  {
   "cell_type": "code",
   "execution_count": 188,
   "id": "0e41f8ca-0d9a-4dab-9309-c69cfbb6e6fb",
   "metadata": {},
   "outputs": [],
   "source": [
    "## 1 ARIMA"
   ]
  },
  {
   "cell_type": "code",
   "execution_count": 194,
   "id": "f7132eb9-925d-43b0-9e57-070405a15a1b",
   "metadata": {},
   "outputs": [
    {
     "name": "stdout",
     "output_type": "stream",
     "text": [
      "None\n"
     ]
    }
   ],
   "source": [
    "train = train.sort_index()\n",
    "print(pd.infer_freq(train.index))\n"
   ]
  },
  {
   "cell_type": "code",
   "execution_count": 205,
   "id": "dd3f954b-8fc7-42af-a751-7122e00ea19a",
   "metadata": {},
   "outputs": [
    {
     "name": "stdout",
     "output_type": "stream",
     "text": [
      "DateTime\n",
      "0 days 00:00:00     26310\n",
      "0 days 01:00:00     12170\n",
      "29 days 01:00:00        6\n",
      "6 days 01:00:00         4\n",
      "28 days 01:00:00        3\n",
      "26 days 01:00:00        1\n",
      "10 days 01:00:00        1\n",
      "Name: count, dtype: int64\n"
     ]
    }
   ],
   "source": [
    "train = train.sort_index()\n",
    "print(train.index.to_series().diff().value_counts())\n"
   ]
  },
  {
   "cell_type": "code",
   "execution_count": 197,
   "id": "de5b21c8-dd76-4edb-97c6-07f60e2e3304",
   "metadata": {},
   "outputs": [
    {
     "name": "stdout",
     "output_type": "stream",
     "text": [
      "DateTime\n",
      "0 days 00:00:00     26310\n",
      "0 days 01:00:00     12170\n",
      "29 days 01:00:00        6\n",
      "6 days 01:00:00         4\n",
      "28 days 01:00:00        3\n",
      "26 days 01:00:00        1\n",
      "10 days 01:00:00        1\n",
      "Name: count, dtype: int64\n"
     ]
    }
   ],
   "source": [
    "print(train.index.to_series().diff().value_counts())\n"
   ]
  },
  {
   "cell_type": "code",
   "execution_count": 213,
   "id": "77f6bbd9-49c9-4347-8627-e8e05d5f669d",
   "metadata": {},
   "outputs": [],
   "source": [
    "import pandas as pd\n",
    "from statsmodels.tsa.arima.model import ARIMA\n",
    "\n",
    "# Ensure datetime index\n",
    "train.index = pd.to_datetime(train.index)\n",
    "train = train.sort_index()\n",
    "\n",
    "# Select only numeric columns to avoid aggregation errors\n",
    "train_numeric = train.select_dtypes(include='number')\n",
    "\n",
    "# Resample to hourly frequency and interpolate missing values\n",
    "train_resampled = train_numeric.resample('h').mean().interpolate()\n",
    "\n",
    "# Assign frequency explicitly\n",
    "train_resampled.index.freq = 'h'\n"
   ]
  },
  {
   "cell_type": "code",
   "execution_count": 215,
   "id": "848567ca-7137-4e55-a8eb-28cfd985ef59",
   "metadata": {},
   "outputs": [],
   "source": [
    "# Fit ARIMA model on the 'Vehicles' column\n",
    "model = ARIMA(train_resampled['Vehicles'], order=(5, 1, 0))\n",
    "model_fit = model.fit()\n"
   ]
  },
  {
   "cell_type": "code",
   "execution_count": 217,
   "id": "7cd5007b-3368-44d8-9b8d-ed7515c4e211",
   "metadata": {},
   "outputs": [
    {
     "data": {
      "image/png": "[encoded data removed]",
      "text/plain": [
       "<Figure size 1000x500 with 1 Axes>"
      ]
     },
     "metadata": {},
     "output_type": "display_data"
    }
   ],
   "source": [
    "# Forecast for the same number of steps as your validation set\n",
    "forecast = model_fit.forecast(steps=len(val))\n",
    "\n",
    "# Plot actual vs forecast\n",
    "import matplotlib.pyplot as plt\n",
    "\n",
    "plt.figure(figsize=(10, 5))\n",
    "plt.plot(val.index, val['Vehicles'], label='Actual')\n",
    "plt.plot(val.index, forecast, label='ARIMA Forecast', linestyle='--')\n",
    "plt.title('Traffic Volume Forecast vs Actual')\n",
    "plt.xlabel('DateTime')\n",
    "plt.ylabel('Vehicles')\n",
    "plt.legend()\n",
    "plt.grid(True)\n",
    "plt.show()\n"
   ]
  },
  {
   "cell_type": "code",
   "execution_count": 219,
   "id": "cbef4e86-a4e9-4ab0-a0de-c9065123ba4f",
   "metadata": {},
   "outputs": [],
   "source": [
    "## 2 Gradient Boosting Trees (XGBoost)"
   ]
  },
  {
   "cell_type": "code",
   "execution_count": 231,
   "id": "3f096182-af37-4ba4-89f8-0c40f05be2df",
   "metadata": {},
   "outputs": [
    {
     "name": "stdout",
     "output_type": "stream",
     "text": [
      "MAE: 0.10, RMSE: 0.15, R²: -0.02\n"
     ]
    },
    {
     "data": {
      "image/png": "[encoded data removed]",
      "text/plain": [
       "<Figure size 1000x500 with 1 Axes>"
      ]
     },
     "metadata": {},
     "output_type": "display_data"
    }
   ],
   "source": [
    "from xgboost import XGBRegressor\n",
    "from sklearn.model_selection import train_test_split\n",
    "from sklearn.metrics import mean_absolute_error, mean_squared_error, r2_score\n",
    "import matplotlib.pyplot as plt\n",
    "import numpy as np\n",
    "\n",
    "# Use only available features\n",
    "features = ['hour', 'dayofweek', 'month']\n",
    "target = 'Vehicles'\n",
    "\n",
    "# Split features and target\n",
    "X_train = train[features]\n",
    "y_train = train[target]\n",
    "X_val = val[features]\n",
    "y_val = val[target]\n",
    "\n",
    "# Initialize and train model\n",
    "model_xgb = XGBRegressor(\n",
    "    n_estimators=100,\n",
    "    max_depth=5,\n",
    "    learning_rate=0.1,\n",
    "    random_state=42\n",
    ")\n",
    "model_xgb.fit(X_train, y_train)\n",
    "\n",
    "# Predict\n",
    "y_pred_xgb = model_xgb.predict(X_val)\n",
    "\n",
    "# Evaluate\n",
    "mae = mean_absolute_error(y_val, y_pred_xgb)\n",
    "rmse = np.sqrt(mean_squared_error(y_val, y_pred_xgb))\n",
    "r2 = r2_score(y_val, y_pred_xgb)\n",
    "\n",
    "print(f\"MAE: {mae:.2f}, RMSE: {rmse:.2f}, R²: {r2:.2f}\")\n",
    "\n",
    "# Plot\n",
    "plt.figure(figsize=(10, 5))\n",
    "plt.plot(val.index, y_val.values, label='Actual')\n",
    "plt.plot(val.index, y_pred_xgb, label='XGBoost Prediction', linestyle='--')\n",
    "plt.title('Traffic Volume Forecast vs Actual')\n",
    "plt.xlabel('DateTime')\n",
    "plt.ylabel('Vehicles')\n",
    "plt.legend()\n",
    "plt.grid(True)\n",
    "plt.show()\n"
   ]
  },
  {
   "cell_type": "code",
   "execution_count": 17,
   "id": "4e141f33-1ec7-4433-ba3f-ef7fae7a0188",
   "metadata": {},
   "outputs": [],
   "source": [
    "# 2 lstm"
   ]
  },
  {
   "cell_type": "code",
   "execution_count": 19,
   "id": "ce4d1dc2-aa43-430a-a368-14fe955f42e8",
   "metadata": {},
   "outputs": [
    {
     "name": "stdout",
     "output_type": "stream",
     "text": [
      "Requirement already satisfied: tensorflow in c:\\programdata\\anaconda3\\lib\\site-packages (2.19.0)\n",
      "Requirement already satisfied: absl-py>=1.0.0 in c:\\programdata\\anaconda3\\lib\\site-packages (from tensorflow) (2.3.1)\n",
      "Requirement already satisfied: astunparse>=1.6.0 in c:\\programdata\\anaconda3\\lib\\site-packages (from tensorflow) (1.6.3)\n",
      "Requirement already satisfied: flatbuffers>=24.3.25 in c:\\programdata\\anaconda3\\lib\\site-packages (from tensorflow) (25.2.10)\n",
      "Requirement already satisfied: gast!=0.5.0,!=0.5.1,!=0.5.2,>=0.2.1 in c:\\programdata\\anaconda3\\lib\\site-packages (from tensorflow) (0.6.0)\n",
      "Requirement already satisfied: google-pasta>=0.1.1 in c:\\programdata\\anaconda3\\lib\\site-packages (from tensorflow) (0.2.0)\n",
      "Requirement already satisfied: libclang>=13.0.0 in c:\\programdata\\anaconda3\\lib\\site-packages (from tensorflow) (18.1.1)\n",
      "Requirement already satisfied: opt-einsum>=2.3.2 in c:\\programdata\\anaconda3\\lib\\site-packages (from tensorflow) (3.4.0)\n",
      "Requirement already satisfied: packaging in c:\\programdata\\anaconda3\\lib\\site-packages (from tensorflow) (24.1)\n",
      "Requirement already satisfied: protobuf!=4.21.0,!=4.21.1,!=4.21.2,!=4.21.3,!=4.21.4,!=4.21.5,<6.0.0dev,>=3.20.3 in c:\\programdata\\anaconda3\\lib\\site-packages (from tensorflow) (4.25.3)\n",
      "Requirement already satisfied: requests<3,>=2.21.0 in c:\\programdata\\anaconda3\\lib\\site-packages (from tensorflow) (2.32.3)\n",
      "Requirement already satisfied: setuptools in c:\\programdata\\anaconda3\\lib\\site-packages (from tensorflow) (75.1.0)\n",
      "Requirement already satisfied: six>=1.12.0 in c:\\programdata\\anaconda3\\lib\\site-packages (from tensorflow) (1.16.0)\n",
      "Requirement already satisfied: termcolor>=1.1.0 in c:\\programdata\\anaconda3\\lib\\site-packages (from tensorflow) (3.1.0)\n",
      "Requirement already satisfied: typing-extensions>=3.6.6 in c:\\programdata\\anaconda3\\lib\\site-packages (from tensorflow) (4.11.0)\n",
      "Requirement already satisfied: wrapt>=1.11.0 in c:\\programdata\\anaconda3\\lib\\site-packages (from tensorflow) (1.14.1)\n",
      "Requirement already satisfied: grpcio<2.0,>=1.24.3 in c:\\programdata\\anaconda3\\lib\\site-packages (from tensorflow) (1.74.0)\n",
      "Requirement already satisfied: tensorboard~=2.19.0 in c:\\programdata\\anaconda3\\lib\\site-packages (from tensorflow) (2.19.0)\n",
      "Requirement already satisfied: keras>=3.5.0 in c:\\programdata\\anaconda3\\lib\\site-packages (from tensorflow) (3.11.1)\n",
      "Requirement already satisfied: numpy<2.2.0,>=1.26.0 in c:\\programdata\\anaconda3\\lib\\site-packages (from tensorflow) (1.26.4)\n",
      "Requirement already satisfied: h5py>=3.11.0 in c:\\programdata\\anaconda3\\lib\\site-packages (from tensorflow) (3.11.0)\n",
      "Requirement already satisfied: ml-dtypes<1.0.0,>=0.5.1 in c:\\programdata\\anaconda3\\lib\\site-packages (from tensorflow) (0.5.3)\n",
      "Requirement already satisfied: wheel<1.0,>=0.23.0 in c:\\programdata\\anaconda3\\lib\\site-packages (from astunparse>=1.6.0->tensorflow) (0.44.0)\n",
      "Requirement already satisfied: rich in c:\\programdata\\anaconda3\\lib\\site-packages (from keras>=3.5.0->tensorflow) (13.7.1)\n",
      "Requirement already satisfied: namex in c:\\programdata\\anaconda3\\lib\\site-packages (from keras>=3.5.0->tensorflow) (0.1.0)\n",
      "Requirement already satisfied: optree in c:\\programdata\\anaconda3\\lib\\site-packages (from keras>=3.5.0->tensorflow) (0.17.0)\n",
      "Requirement already satisfied: charset-normalizer<4,>=2 in c:\\programdata\\anaconda3\\lib\\site-packages (from requests<3,>=2.21.0->tensorflow) (3.3.2)\n",
      "Requirement already satisfied: idna<4,>=2.5 in c:\\programdata\\anaconda3\\lib\\site-packages (from requests<3,>=2.21.0->tensorflow) (3.7)\n",
      "Requirement already satisfied: urllib3<3,>=1.21.1 in c:\\programdata\\anaconda3\\lib\\site-packages (from requests<3,>=2.21.0->tensorflow) (2.2.3)\n",
      "Requirement already satisfied: certifi>=2017.4.17 in c:\\programdata\\anaconda3\\lib\\site-packages (from requests<3,>=2.21.0->tensorflow) (2024.12.14)\n",
      "Requirement already satisfied: markdown>=2.6.8 in c:\\programdata\\anaconda3\\lib\\site-packages (from tensorboard~=2.19.0->tensorflow) (3.4.1)\n",
      "Requirement already satisfied: tensorboard-data-server<0.8.0,>=0.7.0 in c:\\programdata\\anaconda3\\lib\\site-packages (from tensorboard~=2.19.0->tensorflow) (0.7.2)\n",
      "Requirement already satisfied: werkzeug>=1.0.1 in c:\\programdata\\anaconda3\\lib\\site-packages (from tensorboard~=2.19.0->tensorflow) (3.0.3)\n",
      "Requirement already satisfied: MarkupSafe>=2.1.1 in c:\\programdata\\anaconda3\\lib\\site-packages (from werkzeug>=1.0.1->tensorboard~=2.19.0->tensorflow) (2.1.3)\n",
      "Requirement already satisfied: markdown-it-py>=2.2.0 in c:\\programdata\\anaconda3\\lib\\site-packages (from rich->keras>=3.5.0->tensorflow) (2.2.0)\n",
      "Requirement already satisfied: pygments<3.0.0,>=2.13.0 in c:\\programdata\\anaconda3\\lib\\site-packages (from rich->keras>=3.5.0->tensorflow) (2.15.1)\n",
      "Requirement already satisfied: mdurl~=0.1 in c:\\programdata\\anaconda3\\lib\\site-packages (from markdown-it-py>=2.2.0->rich->keras>=3.5.0->tensorflow) (0.1.0)\n"
     ]
    }
   ],
   "source": [
    "!pip install tensorflow\n"
   ]
  },
  {
   "cell_type": "code",
   "execution_count": null,
   "id": "f6ffc204-f2b0-4e2e-8b25-82141655063a",
   "metadata": {},
   "outputs": [],
   "source": []
  },
  {
   "cell_type": "code",
   "execution_count": 21,
   "id": "a313addd-2238-4278-a110-2869ea325bc9",
   "metadata": {},
   "outputs": [],
   "source": [
    "#Load and Prepare Data\n",
    "import pandas as pd\n",
    "import numpy as np\n",
    "from sklearn.preprocessing import MinMaxScaler\n",
    "\n",
    "# Load dataset\n",
    "train = pd.read_csv('Final_Integrated_Dataset.csv')\n",
    "\n",
    "# Use only the 'Vehicles' column for LSTM\n",
    "df = train[['Vehicles']]\n",
    "\n",
    "# Scale the data\n",
    "scaler = MinMaxScaler()\n",
    "scaled_data = scaler.fit_transform(df)\n",
    "\n",
    "# Create sequences\n",
    "def create_sequences(data, seq_length):\n",
    "    X, y = [], []\n",
    "    for i in range(len(data) - seq_length):\n",
    "        X.append(data[i:i+seq_length])\n",
    "        y.append(data[i+seq_length])\n",
    "    return np.array(X), np.array(y)\n",
    "\n",
    "seq_length = 24  # past 24 hours\n",
    "X, y = create_sequences(scaled_data, seq_length)\n",
    "\n",
    "# Split into train and validation sets\n",
    "split = int(len(X) * 0.8)\n",
    "X_train, X_val = X[:split], X[split:]\n",
    "y_train, y_val = y[:split], y[split:]\n"
   ]
  },
  {
   "cell_type": "code",
   "execution_count": 23,
   "id": "8453446a-966d-42d2-acd5-9775403efd54",
   "metadata": {},
   "outputs": [],
   "source": [
    "# Build and Compile LSTM Model\n",
    "from tensorflow.keras.models import Sequential\n",
    "from tensorflow.keras.layers import LSTM, Dense\n",
    "from tensorflow.keras import Input\n",
    "\n",
    "model = Sequential()\n",
    "model.add(Input(shape=(X_train.shape[1], X_train.shape[2])))\n",
    "model.add(LSTM(50))\n",
    "model.add(Dense(1))  # Output layer\n",
    "\n",
    "model.compile(optimizer='adam', loss='mean_squared_error')\n"
   ]
  },
  {
   "cell_type": "code",
   "execution_count": 25,
   "id": "7289cebf-2420-4a89-80db-a59cc664163e",
   "metadata": {},
   "outputs": [
    {
     "name": "stdout",
     "output_type": "stream",
     "text": [
      "Epoch 1/20\n",
      "\u001b[1m1203/1203\u001b[0m \u001b[32m━━━━━━━━━━━━━━━━━━━━\u001b[0m\u001b[37m\u001b[0m \u001b[1m11s\u001b[0m 7ms/step - loss: 0.0087 - val_loss: 0.0196\n",
      "Epoch 2/20\n",
      "\u001b[1m1203/1203\u001b[0m \u001b[32m━━━━━━━━━━━━━━━━━━━━\u001b[0m\u001b[37m\u001b[0m \u001b[1m8s\u001b[0m 7ms/step - loss: 0.0084 - val_loss: 0.0191\n",
      "Epoch 3/20\n",
      "\u001b[1m1203/1203\u001b[0m \u001b[32m━━━━━━━━━━━━━━━━━━━━\u001b[0m\u001b[37m\u001b[0m \u001b[1m10s\u001b[0m 9ms/step - loss: 0.0084 - val_loss: 0.0198\n",
      "Epoch 4/20\n",
      "\u001b[1m1203/1203\u001b[0m \u001b[32m━━━━━━━━━━━━━━━━━━━━\u001b[0m\u001b[37m\u001b[0m \u001b[1m13s\u001b[0m 10ms/step - loss: 0.0084 - val_loss: 0.0195\n",
      "Epoch 5/20\n",
      "\u001b[1m1203/1203\u001b[0m \u001b[32m━━━━━━━━━━━━━━━━━━━━\u001b[0m\u001b[37m\u001b[0m \u001b[1m13s\u001b[0m 10ms/step - loss: 0.0083 - val_loss: 0.0189\n",
      "Epoch 6/20\n",
      "\u001b[1m1203/1203\u001b[0m \u001b[32m━━━━━━━━━━━━━━━━━━━━\u001b[0m\u001b[37m\u001b[0m \u001b[1m13s\u001b[0m 11ms/step - loss: 0.0083 - val_loss: 0.0191\n",
      "Epoch 7/20\n",
      "\u001b[1m1203/1203\u001b[0m \u001b[32m━━━━━━━━━━━━━━━━━━━━\u001b[0m\u001b[37m\u001b[0m \u001b[1m13s\u001b[0m 11ms/step - loss: 0.0083 - val_loss: 0.0190\n",
      "Epoch 8/20\n",
      "\u001b[1m1203/1203\u001b[0m \u001b[32m━━━━━━━━━━━━━━━━━━━━\u001b[0m\u001b[37m\u001b[0m \u001b[1m16s\u001b[0m 13ms/step - loss: 0.0082 - val_loss: 0.0188\n",
      "Epoch 9/20\n",
      "\u001b[1m1203/1203\u001b[0m \u001b[32m━━━━━━━━━━━━━━━━━━━━\u001b[0m\u001b[37m\u001b[0m \u001b[1m15s\u001b[0m 12ms/step - loss: 0.0081 - val_loss: 0.0183\n",
      "Epoch 10/20\n",
      "\u001b[1m1203/1203\u001b[0m \u001b[32m━━━━━━━━━━━━━━━━━━━━\u001b[0m\u001b[37m\u001b[0m \u001b[1m14s\u001b[0m 12ms/step - loss: 0.0080 - val_loss: 0.0178\n",
      "Epoch 11/20\n",
      "\u001b[1m1203/1203\u001b[0m \u001b[32m━━━━━━━━━━━━━━━━━━━━\u001b[0m\u001b[37m\u001b[0m \u001b[1m11s\u001b[0m 9ms/step - loss: 0.0078 - val_loss: 0.0176\n",
      "Epoch 12/20\n",
      "\u001b[1m1203/1203\u001b[0m \u001b[32m━━━━━━━━━━━━━━━━━━━━\u001b[0m\u001b[37m\u001b[0m \u001b[1m12s\u001b[0m 10ms/step - loss: 0.0077 - val_loss: 0.0176\n",
      "Epoch 13/20\n",
      "\u001b[1m1203/1203\u001b[0m \u001b[32m━━━━━━━━━━━━━━━━━━━━\u001b[0m\u001b[37m\u001b[0m \u001b[1m12s\u001b[0m 10ms/step - loss: 0.0077 - val_loss: 0.0177\n",
      "Epoch 14/20\n",
      "\u001b[1m1203/1203\u001b[0m \u001b[32m━━━━━━━━━━━━━━━━━━━━\u001b[0m\u001b[37m\u001b[0m \u001b[1m12s\u001b[0m 10ms/step - loss: 0.0076 - val_loss: 0.0175\n",
      "Epoch 15/20\n",
      "\u001b[1m1203/1203\u001b[0m \u001b[32m━━━━━━━━━━━━━━━━━━━━\u001b[0m\u001b[37m\u001b[0m \u001b[1m12s\u001b[0m 10ms/step - loss: 0.0076 - val_loss: 0.0173\n",
      "Epoch 16/20\n",
      "\u001b[1m1203/1203\u001b[0m \u001b[32m━━━━━━━━━━━━━━━━━━━━\u001b[0m\u001b[37m\u001b[0m \u001b[1m16s\u001b[0m 13ms/step - loss: 0.0075 - val_loss: 0.0173\n",
      "Epoch 17/20\n",
      "\u001b[1m1203/1203\u001b[0m \u001b[32m━━━━━━━━━━━━━━━━━━━━\u001b[0m\u001b[37m\u001b[0m \u001b[1m13s\u001b[0m 10ms/step - loss: 0.0075 - val_loss: 0.0177\n",
      "Epoch 18/20\n",
      "\u001b[1m1203/1203\u001b[0m \u001b[32m━━━━━━━━━━━━━━━━━━━━\u001b[0m\u001b[37m\u001b[0m \u001b[1m12s\u001b[0m 10ms/step - loss: 0.0075 - val_loss: 0.0174\n",
      "Epoch 19/20\n",
      "\u001b[1m1203/1203\u001b[0m \u001b[32m━━━━━━━━━━━━━━━━━━━━\u001b[0m\u001b[37m\u001b[0m \u001b[1m12s\u001b[0m 10ms/step - loss: 0.0074 - val_loss: 0.0174\n",
      "Epoch 20/20\n",
      "\u001b[1m1203/1203\u001b[0m \u001b[32m━━━━━━━━━━━━━━━━━━━━\u001b[0m\u001b[37m\u001b[0m \u001b[1m12s\u001b[0m 10ms/step - loss: 0.0074 - val_loss: 0.0173\n"
     ]
    }
   ],
   "source": [
    "#Train the Model\n",
    "history = model.fit(X_train, y_train,epochs=20, validation_data=(X_val, y_val), verbose=1) "
   ]
  },
  {
   "cell_type": "code",
   "execution_count": 26,
   "id": "8e4c9315-5133-471e-b449-30ca19677a42",
   "metadata": {},
   "outputs": [
    {
     "name": "stdout",
     "output_type": "stream",
     "text": [
      "\u001b[1m301/301\u001b[0m \u001b[32m━━━━━━━━━━━━━━━━━━━━\u001b[0m\u001b[37m\u001b[0m \u001b[1m2s\u001b[0m 5ms/step\n"
     ]
    }
   ],
   "source": [
    "#Predict and Rescale\n",
    "y_pred = model.predict(X_val)\n",
    "\n",
    "# Rescale predictions and actual values\n",
    "y_pred_rescaled = scaler.inverse_transform(y_pred)\n",
    "y_val_rescaled = scaler.inverse_transform(y_val.reshape(-1, 1))\n"
   ]
  },
  {
   "cell_type": "code",
   "execution_count": 28,
   "id": "9ad7fdb7-f914-4183-89f5-d311c71e29a1",
   "metadata": {},
   "outputs": [
    {
     "data": {
      "image/png": "[encoded data removed]",
      "text/plain": [
       "<Figure size 1000x500 with 1 Axes>"
      ]
     },
     "metadata": {},
     "output_type": "display_data"
    }
   ],
   "source": [
    "#Plot Results\n",
    "import matplotlib.pyplot as plt\n",
    "\n",
    "plt.figure(figsize=(10, 5))\n",
    "plt.plot(y_val_rescaled, label='Actual')\n",
    "plt.plot(y_pred_rescaled, label='LSTM Prediction', linestyle='--')\n",
    "plt.title('LSTM Traffic Volume Forecast')\n",
    "plt.xlabel('Time')\n",
    "plt.ylabel('Vehicles')\n",
    "plt.legend()\n",
    "plt.grid(True)\n",
    "plt.show()\n"
   ]
  },
  {
   "cell_type": "code",
   "execution_count": 32,
   "id": "aca051f8-5ca1-4b3e-a292-213a351958db",
   "metadata": {},
   "outputs": [
    {
     "name": "stdout",
     "output_type": "stream",
     "text": [
      "MAE: 0.10, RMSE: 0.13, R²: 0.23\n"
     ]
    }
   ],
   "source": [
    "#Evaluate Model\n",
    "\n",
    "from sklearn.metrics import mean_absolute_error, mean_squared_error, r2_score\n",
    "\n",
    "mae = mean_absolute_error(y_val_rescaled, y_pred_rescaled)\n",
    "rmse = np.sqrt(mean_squared_error(y_val_rescaled, y_pred_rescaled))\n",
    "r2 = r2_score(y_val_rescaled, y_pred_rescaled)\n",
    "\n",
    "print(f'MAE: {mae:.2f}, RMSE: {rmse:.2f}, R²: {r2:.2f}')\n"
   ]
  },
  {
   "cell_type": "code",
   "execution_count": 34,
   "id": "6db0366e-836e-48bc-a55b-3a2b99bfe1dc",
   "metadata": {},
   "outputs": [],
   "source": [
    "#Time-Based Cross-Validation"
   ]
  },
  {
   "cell_type": "code",
   "execution_count": null,
   "id": "bc5db930-212d-4776-bb2c-58575d72e095",
   "metadata": {},
   "outputs": [
    {
     "name": "stdout",
     "output_type": "stream",
     "text": [
      "\u001b[1m251/251\u001b[0m \u001b[32m━━━━━━━━━━━━━━━━━━━━\u001b[0m\u001b[37m\u001b[0m \u001b[1m2s\u001b[0m 6ms/step\n",
      "Fold MAE: 0.05, RMSE: 0.07, R²: 0.21\n",
      "\u001b[1m251/251\u001b[0m \u001b[32m━━━━━━━━━━━━━━━━━━━━\u001b[0m\u001b[37m\u001b[0m \u001b[1m1s\u001b[0m 5ms/step\n",
      "Fold MAE: 0.07, RMSE: 0.09, R²: 0.20\n"
     ]
    }
   ],
   "source": [
    "from sklearn.model_selection import TimeSeriesSplit\n",
    "\n",
    "tscv = TimeSeriesSplit(n_splits=5)\n",
    "\n",
    "for train_index, test_index in tscv.split(X):\n",
    "    X_train_fold, X_test_fold = X[train_index], X[test_index]\n",
    "    y_train_fold, y_test_fold = y[train_index], y[test_index]\n",
    "\n",
    "    model = Sequential()\n",
    "    model.add(Input(shape=(X_train_fold.shape[1], X_train_fold.shape[2])))\n",
    "    model.add(LSTM(50))\n",
    "    model.add(Dense(1))\n",
    "    model.compile(optimizer='adam', loss='mean_squared_error')\n",
    "\n",
    "    model.fit(X_train_fold, y_train_fold, epochs=10, verbose=0)\n",
    "    y_pred_fold = model.predict(X_test_fold)\n",
    "\n",
    "    # Rescale and evaluate\n",
    "    y_pred_fold_rescaled = scaler.inverse_transform(y_pred_fold)\n",
    "    y_test_fold_rescaled = scaler.inverse_transform(y_test_fold.reshape(-1, 1))\n",
    "\n",
    "    mae = mean_absolute_error(y_test_fold_rescaled, y_pred_fold_rescaled)\n",
    "    rmse = np.sqrt(mean_squared_error(y_test_fold_rescaled, y_pred_fold_rescaled))\n",
    "    r2 = r2_score(y_test_fold_rescaled, y_pred_fold_rescaled)\n",
    "\n",
    "    print(f'Fold MAE: {mae:.2f}, RMSE: {rmse:.2f}, R²: {r2:.2f}')\n"
   ]
  },
  {
   "cell_type": "code",
   "execution_count": null,
   "id": "d4a5ccaa-ad73-4cc0-bb94-fa598dcf7281",
   "metadata": {},
   "outputs": [],
   "source": []
  }
 ],
 "metadata": {
  "kernelspec": {
   "display_name": "Python [conda env:base] *",
   "language": "python",
   "name": "conda-base-py"
  },
  "language_info": {
   "codemirror_mode": {
    "name": "ipython",
    "version": 3
   },
   "file_extension": ".py",
   "mimetype": "text/x-python",
   "name": "python",
   "nbconvert_exporter": "python",
   "pygments_lexer": "ipython3",
   "version": "3.12.7"
  }
 },
 "nbformat": 4,
 "nbformat_minor": 5
}
